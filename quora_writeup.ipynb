{
 "cells": [
  {
   "cell_type": "markdown",
   "id": "4df1101f-9094-41ee-ad6e-cb8c96a50880",
   "metadata": {},
   "source": [
    "## Importing data"
   ]
  },
  {
   "cell_type": "code",
   "execution_count": 1,
   "id": "fa55bee3-7d7d-4b77-9a3f-088b23651f9e",
   "metadata": {},
   "outputs": [],
   "source": [
    "import tensorflow as tf\n",
    "import numpy as np\n",
    "import pandas as pd\n",
    "from tensorflow import keras \n",
    "import matplotlib.pyplot as plt\n",
    "from sklearn.model_selection import train_test_split\n",
    "from tensorflow.keras.preprocessing.text import Tokenizer\n",
    "from tensorflow.keras.preprocessing.sequence import pad_sequences\n",
    "from tensorflow.keras.preprocessing.text import text_to_word_sequence\n",
    "import math"
   ]
  },
  {
   "cell_type": "code",
   "execution_count": 16,
   "id": "cca486b2-396a-43ab-b661-898f848c1e8c",
   "metadata": {},
   "outputs": [],
   "source": [
    "df = pd.read_csv(\"/home/DAVIDSON/brwiedenbeck/public/NLP/quora.csv\")"
   ]
  },
  {
   "cell_type": "markdown",
   "id": "833c3f61-0c4f-405e-a60c-0e363c6d22d0",
   "metadata": {},
   "source": [
    "#### Train-test-validation split"
   ]
  },
  {
   "cell_type": "markdown",
   "id": "04b08025-ad3e-4787-93b0-30b8c8a133b7",
   "metadata": {},
   "source": [
    "We split the data 80%-20% for the train and test sets, and further split the train set 80%-20% to obtain a validation set. By performing a stratified train-test split, we were able to preserve the same proportions of examples in each class as observed in the original dataset. "
   ]
  },
  {
   "cell_type": "code",
   "execution_count": 17,
   "id": "8b1368ec-fe72-4976-8d79-74830e3252d2",
   "metadata": {},
   "outputs": [],
   "source": [
    "train_data, test_data = train_test_split(df, train_size=0.80, stratify = df['target'], random_state=42)"
   ]
  },
  {
   "cell_type": "code",
   "execution_count": 18,
   "id": "385de2d0-6c03-4d68-a57b-b0a59c3c8af9",
   "metadata": {},
   "outputs": [],
   "source": [
    "train_data, val_data = train_test_split(train_data, train_size=0.80, stratify = train_data['target'], random_state=42)"
   ]
  },
  {
   "cell_type": "markdown",
   "id": "c20abb66-3e6a-4e31-9256-716ea0d2e348",
   "metadata": {},
   "source": [
    "Upon inspection below, we see that we have a very large dataset with over 800,000 training samples. "
   ]
  },
  {
   "cell_type": "code",
   "execution_count": 12,
   "id": "36d79ae1-0cc6-4439-9685-8af59ae878ed",
   "metadata": {},
   "outputs": [
    {
     "name": "stdout",
     "output_type": "stream",
     "text": [
      "TRAIN DATA\n",
      "(835917, 3)\n",
      "0    784199\n",
      "1     51718\n",
      "Name: target, dtype: int64\n",
      "VALIDATION DATA\n",
      "(208980, 3)\n",
      "0    196050\n",
      "1     12930\n",
      "Name: target, dtype: int64\n",
      "TEST DATA\n",
      "(261225, 3)\n",
      "0    245063\n",
      "1     16162\n",
      "Name: target, dtype: int64\n"
     ]
    }
   ],
   "source": [
    "print(\"TRAIN DATA\")\n",
    "print(train_data.shape)\n",
    "print(train_data['target'].value_counts())\n",
    "print(\"VALIDATION DATA\")\n",
    "print(val_data.shape)\n",
    "print(val_data['target'].value_counts())\n",
    "print(\"TEST DATA\")\n",
    "print(test_data.shape)\n",
    "print(test_data['target'].value_counts())"
   ]
  },
  {
   "cell_type": "markdown",
   "id": "dcf17510-0a25-4d29-9f5c-f518e7f0fff0",
   "metadata": {},
   "source": [
    "## Preprocessing Data"
   ]
  },
  {
   "cell_type": "markdown",
   "id": "ac8a5a80-489b-4c5e-a14a-baac435ee2ff",
   "metadata": {},
   "source": [
    "In terms of preprocessing, we need to tokenize the questions (first column of the dataframe) and generate word embeddings that can then be fed into the neural network. We decided to use Stanford's GloVe embedding with 100 dimensions. "
   ]
  },
  {
   "cell_type": "markdown",
   "id": "f5cc7826-a1de-4223-b3b4-a8169e6ca956",
   "metadata": {},
   "source": [
    "#### Download GloVe"
   ]
  },
  {
   "cell_type": "code",
   "execution_count": null,
   "id": "dbdb887d-9ed5-462d-91ab-735457c55ffc",
   "metadata": {},
   "outputs": [],
   "source": [
    "!wget http://nlp.stanford.edu/data/glove.6B.zip\n",
    "!unzip -q glove.6B.zip"
   ]
  },
  {
   "cell_type": "markdown",
   "id": "0b442ce5-f8cd-439a-baee-e833783da930",
   "metadata": {},
   "source": [
    "#### Create dictionary of GloVe embeddings"
   ]
  },
  {
   "cell_type": "code",
   "execution_count": 22,
   "id": "1b8d0f70-5870-4877-a254-6cfd62409165",
   "metadata": {},
   "outputs": [],
   "source": [
    "# \"embedding\" is a dictionary of raw GloVe embeddings of words\n",
    "f = open(\"glove.6B.100d.txt\")\n",
    "lines = f.readlines()\n",
    "embedding = dict()\n",
    "for line in lines:\n",
    "        parts = line.split()\n",
    "        embedding[parts[0]] = np.asarray(parts[1:], dtype='float32')"
   ]
  },
  {
   "cell_type": "markdown",
   "id": "10f8e060-add6-439d-82c0-5592f17b811f",
   "metadata": {},
   "source": [
    "#### Preprocessing Function"
   ]
  },
  {
   "cell_type": "markdown",
   "id": "c721ab93-1c68-4651-bb76-831f04dbf978",
   "metadata": {},
   "source": [
    "The function below takes in a single question, tokenizes it, creates a vector of length 100 repreenting the glove embedding for each token, and adds all embedding vectors to a matrix. The final output matrix has shape 'number of tokens × 100' (each row is an embedding vector for each word in the question) and is therefore a GloVE representation for the question.  "
   ]
  },
  {
   "cell_type": "code",
   "execution_count": 21,
   "id": "c15f6e8d-f70c-4346-b36d-35f35bed2939",
   "metadata": {},
   "outputs": [],
   "source": [
    "def glove_embedding(data):\n",
    "    \n",
    "    tokens = text_to_word_sequence(data)\n",
    "    matrix = np.zeros((len(tokens), 100))\n",
    "    for index, word in enumerate(tokens):\n",
    "        vector_rep = embedding.get(word)\n",
    "        if vector_rep is not None:\n",
    "            matrix[index] = vector_rep\n",
    "    matrix = np.array(matrix, dtype=object)\n",
    "    return matrix"
   ]
  },
  {
   "cell_type": "markdown",
   "id": "97c60364-b7e5-4642-adc4-c4ef2754e473",
   "metadata": {},
   "source": [
    "## Data Generators"
   ]
  },
  {
   "cell_type": "markdown",
   "id": "9d86067c-eedb-48c1-a509-820ee7c3fa33",
   "metadata": {},
   "source": [
    "Since the dataset is very large, it was not possible to hold all embeddings in memory at once. We faced a lot of memory issues and tried many different approaches of resolution before deciding to use data generators. Initially, we split the training dataset into 12 batches, generated GloVe embeddings for each batch one at a time, and saved the embeddings to 12 different files. We also split the train labels into 12 batches to match their respective questions. We then tried to load each batch of training data one at a time when training the model, however, were still exceeding memory. Despite using gc.collect() and tf.keras.backend.clear_session() to empty memory, we kept getting stuck after a certain number of batches had been loaded. Hence we tried the alternate approach of using data generators to feed data into Keras in real-time while training the model. "
   ]
  },
  {
   "cell_type": "markdown",
   "id": "de6670cc-88f1-4a16-9e80-86e27b094908",
   "metadata": {},
   "source": [
    "#### Generator for training data"
   ]
  },
  {
   "cell_type": "markdown",
   "id": "ee2d692f-6e0a-48e5-858c-2a12c7a2e3ba",
   "metadata": {},
   "source": [
    "Our data generator splits the dataset into batches, generates embeddings for each batch by calling the glove_embedding() function, pads sequences such that all questions in a batch are of the same length, and then feeds the questions and their targets one at a time into the neural network. "
   ]
  },
  {
   "cell_type": "code",
   "execution_count": 46,
   "id": "8d228ec1-a3bd-4b31-a362-85b692dcfbfb",
   "metadata": {},
   "outputs": [],
   "source": [
    "batch_size = 256\n",
    "\n",
    "def train_gen(train_data):\n",
    "    num_batches = math.ceil(len(train_data) / batch_size)\n",
    "    while True: \n",
    "        train_data = train_data.sample(frac=1.) # shuffle the data\n",
    "        for i in range(num_batches):\n",
    "            train_questions = []\n",
    "            batch = train_data.iloc[i * batch_size: (i + 1) * batch_size, 1] # extract one batch \n",
    "            for question in batch:\n",
    "                train_questions.append(glove_embedding(question)) # generate GloVe embeddings for the batch \n",
    "            train_questions = np.array(train_questions, dtype = object)\n",
    "            train_questions = pad_sequences(train_questions, padding = 'post', dtype = 'float32', maxlen = 200)\n",
    "            yield train_questions, np.array(train_data[\"target\"][i * batch_size:(i + 1) * batch_size])"
   ]
  },
  {
   "cell_type": "code",
   "execution_count": 47,
   "id": "cefd6221-bfe1-4f0f-8ce7-2cd21f6b8803",
   "metadata": {},
   "outputs": [],
   "source": [
    "train_generator = train_gen(train_data)"
   ]
  },
  {
   "cell_type": "markdown",
   "id": "053ade47-3e31-4f9b-999a-60487654ffc3",
   "metadata": {},
   "source": [
    "#### Generator for validation data"
   ]
  },
  {
   "cell_type": "code",
   "execution_count": 48,
   "id": "bfd91fd2-8036-42d4-aedf-1ce4de61a14d",
   "metadata": {},
   "outputs": [],
   "source": [
    "# Generator for validation data\n",
    "batch_size = 256\n",
    "def val_gen(val_data):\n",
    "    num_batches = math.ceil(len(val_data) / batch_size)\n",
    "    while True: \n",
    "        for i in range(num_batches):\n",
    "            val_questions = []\n",
    "            batch = val_data.iloc[i * batch_size: (i + 1) * batch_size, 1]\n",
    "            for question in batch:\n",
    "                val_questions.append(glove_embedding(question))\n",
    "        val_questions = np.array(val_questions, dtype = object)\n",
    "        val_questions = pad_sequences(val_questions, padding = 'post', dtype = 'float32', maxlen = 200)\n",
    "        yield val_questions, np.array(val_data[\"target\"][i * batch_size:(i + 1) * batch_size])"
   ]
  },
  {
   "cell_type": "code",
   "execution_count": 49,
   "id": "8e1a920a-501a-4b02-bfd2-a8675d2ab189",
   "metadata": {},
   "outputs": [],
   "source": [
    "val_generator = val_gen(val_data)"
   ]
  },
  {
   "cell_type": "markdown",
   "id": "973222a8-65d6-4e91-b57e-2ba6a8c8d4cf",
   "metadata": {},
   "source": [
    "## LSTM Model"
   ]
  },
  {
   "cell_type": "markdown",
   "id": "a28de9b8-76c5-4976-8daf-02fa82bd4034",
   "metadata": {},
   "source": [
    "After experiemnting with values of 32 and 64, we found that an LSTM layer with 128 units works best. We therefore built a model with an LSTM layer of 128 units, a dense layer with relu activations, a dropout of 0.2, and an output layer with one node and sigmoid activations to perform classification. "
   ]
  },
  {
   "cell_type": "code",
   "execution_count": 50,
   "id": "5ce15f80-e774-4401-a055-a2c5b1821795",
   "metadata": {},
   "outputs": [],
   "source": [
    "model = tf.keras.Sequential()\n",
    "\n",
    "model.add(tf.keras.layers.LSTM(128))\n",
    "model.add(tf.keras.layers.Dense(64, activation = 'relu'))\n",
    "model.add(tf.keras.layers.Dropout(0.2))\n",
    "model.add(tf.keras.layers.Dense(1, activation = 'sigmoid'))"
   ]
  },
  {
   "cell_type": "code",
   "execution_count": 51,
   "id": "724f5708-855d-4032-a5b1-782c135e3de7",
   "metadata": {},
   "outputs": [],
   "source": [
    "model.compile(optimizer = \"adam\", loss=\"binary_crossentropy\", metrics=['accuracy'])"
   ]
  },
  {
   "cell_type": "markdown",
   "id": "66dd4ef4-9a98-438f-a404-bea827234872",
   "metadata": {},
   "source": [
    "## Training"
   ]
  },
  {
   "cell_type": "code",
   "execution_count": 27,
   "id": "e6da2fb6-e989-47cf-baba-24a0d70d9b66",
   "metadata": {},
   "outputs": [
    {
     "name": "stdout",
     "output_type": "stream",
     "text": [
      "Epoch 1/5\n",
      "1000/1000 [==============================] - 267s 264ms/step - loss: 0.2366 - accuracy: 0.9392\n",
      "Epoch 2/5\n",
      "1000/1000 [==============================] - 265s 265ms/step - loss: 0.2374 - accuracy: 0.9371\n",
      "Epoch 3/5\n",
      "1000/1000 [==============================] - 263s 263ms/step - loss: 0.2355 - accuracy: 0.9378\n",
      "Epoch 4/5\n",
      "1000/1000 [==============================] - 262s 262ms/step - loss: 0.2356 - accuracy: 0.9376\n",
      "Epoch 5/5\n",
      "1000/1000 [==============================] - 215s 215ms/step - loss: 0.2328 - accuracy: 0.9386\n"
     ]
    }
   ],
   "source": [
    "# Train for 5 epochs \n",
    "history = model.fit(train_generator, epochs = 5, steps_per_epoch = 1000, verbose = 1)"
   ]
  },
  {
   "cell_type": "markdown",
   "id": "f1338645-d4f1-406a-a31d-d6445f0b5aff",
   "metadata": {},
   "source": [
    "As seen above, the model was not really learning as training accuracies stayed around 93% after 5 epochs of training. We added a GlobalMaxPooling layer after the LSTM to reduce the number of parameters and see if training improves. "
   ]
  },
  {
   "cell_type": "code",
   "execution_count": 53,
   "id": "ec035c18-fec7-4e06-b62a-b54f4ba2dff1",
   "metadata": {},
   "outputs": [],
   "source": [
    "model = tf.keras.Sequential()\n",
    "\n",
    "model.add((tf.keras.layers.LSTM(128,return_sequences=True)))\n",
    "model.add(tf.keras.layers.GlobalMaxPool1D())\n",
    "model.add(tf.keras.layers.Dense(64,activation='relu'))\n",
    "model.add(tf.keras.layers.Dropout(0.2))\n",
    "model.add(tf.keras.layers.Dense(1,activation='sigmoid'))"
   ]
  },
  {
   "cell_type": "code",
   "execution_count": 54,
   "id": "f8cdf051-cfba-44d0-a1bc-ab733b9c86bb",
   "metadata": {},
   "outputs": [],
   "source": [
    "model.compile(optimizer = \"adam\", loss=\"binary_crossentropy\", metrics=['accuracy'])"
   ]
  },
  {
   "cell_type": "code",
   "execution_count": 39,
   "id": "58536092-eaba-4eaa-99b8-0daae50d9975",
   "metadata": {},
   "outputs": [
    {
     "name": "stdout",
     "output_type": "stream",
     "text": [
      "Epoch 1/10\n",
      "1000/1000 [==============================] - 187s 184ms/step - loss: 0.1446 - accuracy: 0.9471\n",
      "Epoch 2/10\n",
      "1000/1000 [==============================] - 221s 221ms/step - loss: 0.1223 - accuracy: 0.9523\n",
      "Epoch 3/10\n",
      "1000/1000 [==============================] - 184s 184ms/step - loss: 0.1171 - accuracy: 0.9547\n",
      "Epoch 4/10\n",
      "1000/1000 [==============================] - 175s 175ms/step - loss: 0.1123 - accuracy: 0.9564\n",
      "Epoch 5/10\n",
      "1000/1000 [==============================] - 168s 168ms/step - loss: 0.1101 - accuracy: 0.9569\n",
      "Epoch 6/10\n",
      "1000/1000 [==============================] - 168s 168ms/step - loss: 0.1108 - accuracy: 0.9570\n",
      "Epoch 7/10\n",
      "1000/1000 [==============================] - 168s 168ms/step - loss: 0.1062 - accuracy: 0.9580\n",
      "Epoch 8/10\n",
      "1000/1000 [==============================] - 167s 167ms/step - loss: 0.1052 - accuracy: 0.9584\n",
      "Epoch 9/10\n",
      "1000/1000 [==============================] - 167s 167ms/step - loss: 0.1047 - accuracy: 0.9586\n",
      "Epoch 10/10\n",
      "1000/1000 [==============================] - 167s 167ms/step - loss: 0.1032 - accuracy: 0.9589\n"
     ]
    }
   ],
   "source": [
    "history = model.fit(train_generator, epochs = 10, steps_per_epoch = 1000, verbose = 1)"
   ]
  },
  {
   "cell_type": "code",
   "execution_count": 67,
   "id": "b1b382b6-28f7-4af2-89df-da8a75929649",
   "metadata": {},
   "outputs": [
    {
     "data": {
      "image/png": "[encoded data removed]",
      "text/plain": [
       "<Figure size 432x288 with 1 Axes>"
      ]
     },
     "metadata": {
      "needs_background": "light"
     },
     "output_type": "display_data"
    }
   ],
   "source": [
    "plt.plot(history.history['accuracy'])\n",
    "plt.title('Model accuracy')\n",
    "plt.xlabel('Epochs')\n",
    "plt.ylabel('Accuracy')\n",
    "plt.legend(['train'], loc='upper left')\n",
    "plt.show()"
   ]
  },
  {
   "cell_type": "code",
   "execution_count": 68,
   "id": "ba523c58-651e-4694-b601-12671858d9bd",
   "metadata": {},
   "outputs": [
    {
     "data": {
      "image/png": "[encoded data removed]",
      "text/plain": [
       "<Figure size 432x288 with 1 Axes>"
      ]
     },
     "metadata": {
      "needs_background": "light"
     },
     "output_type": "display_data"
    }
   ],
   "source": [
    "plt.plot(history.history['loss'])\n",
    "plt.title('Model Accuracy')\n",
    "plt.xlabel('Epochs')\n",
    "plt.ylabel('Accuracy')\n",
    "plt.legend(['train'], loc='upper left')\n",
    "plt.show()"
   ]
  },
  {
   "cell_type": "markdown",
   "id": "e6d96c3b-5b1a-4ea8-ad4e-f1c2a0bd9961",
   "metadata": {},
   "source": [
    "The above graphs show increasing model accuracy and decreasing model loss over 10 epochs. Overall accuracies are high and losses are low, showing that the model is learning well. We can then evaluate performance on the validation set. "
   ]
  },
  {
   "cell_type": "markdown",
   "id": "ace41c19-508c-436a-8fe3-2cf87036da6c",
   "metadata": {},
   "source": [
    "#### Validation Set"
   ]
  },
  {
   "cell_type": "code",
   "execution_count": 46,
   "id": "f3a5436a-5f43-4976-b443-94fe3914dd51",
   "metadata": {},
   "outputs": [
    {
     "name": "stdout",
     "output_type": "stream",
     "text": [
      "100/100 [==============================] - 821s 8s/step - loss: 0.0938 - accuracy: 0.9762\n"
     ]
    },
    {
     "data": {
      "text/plain": [
       "[0.0937623530626297, 0.976190447807312]"
      ]
     },
     "execution_count": 46,
     "metadata": {},
     "output_type": "execute_result"
    }
   ],
   "source": [
    "model.evaluate(val_generator, steps = 100, verbose = 1)"
   ]
  },
  {
   "cell_type": "markdown",
   "id": "45d060d2-1a54-44b7-ad0d-69ada94c13ef",
   "metadata": {},
   "source": [
    "We see that the model's predictions are consistent across the validation set. However, since in the quora dataset, we have a lot more samples belonging to class 0 (sincere) than class 1 (insincere), we need to check other metrics of performance such as sensitivity and specificity, in addition to overall accuracy. "
   ]
  },
  {
   "cell_type": "markdown",
   "id": "e0df4379-9d0d-406a-92c9-69996f0935ab",
   "metadata": {},
   "source": [
    "## Confusion Matrix"
   ]
  },
  {
   "cell_type": "markdown",
   "id": "e04f2bb1-124b-4eea-9533-6374ea65d341",
   "metadata": {},
   "source": [
    "We plotted our confusion matrix using a sample from the validation data, because our data generator was very slow when operating on the entire validation set. We used stratified train-test split on the validation set, such that the average proportions of examples in each class were still an adequate representation of the larger dataset. "
   ]
  },
  {
   "cell_type": "code",
   "execution_count": 23,
   "id": "f5071ff7-adf9-4244-bfef-f766d7a1c92a",
   "metadata": {},
   "outputs": [],
   "source": [
    "val_data_1, val_data_2 = train_test_split(val_data, train_size=0.90, stratify = val_data['target'], random_state=42)\n",
    "\n",
    "val_embedding = [] # generate word embeddings for validation sample\n",
    "for question in val_data_2[\"question_text\"]:\n",
    "    val_embedding.append(glove_embedding(question))\n",
    "\n",
    "val_embedding = np.array(val_embedding, dtype=object)\n",
    "val_embedding = pad_sequences(val_embedding, padding = 'post', dtype = 'float32', maxlen = 100) # embedded data\n",
    "val_labels = np.array(val_data_2[\"target\"], dtype='int32') # corresponding labels"
   ]
  },
  {
   "cell_type": "code",
   "execution_count": 24,
   "id": "eb65a8dc-45a0-4d52-b7ee-a37a219986cc",
   "metadata": {},
   "outputs": [
    {
     "name": "stdout",
     "output_type": "stream",
     "text": [
      "(188082, 3)\n",
      "0    176445\n",
      "1     11637\n",
      "Name: target, dtype: int64\n",
      "(20898, 3)\n",
      "0    19605\n",
      "1     1293\n",
      "Name: target, dtype: int64\n"
     ]
    }
   ],
   "source": [
    "print(val_data_1.shape)\n",
    "print(val_data_1['target'].value_counts())\n",
    "print(val_data_2.shape)\n",
    "print(val_data_2['target'].value_counts())"
   ]
  },
  {
   "cell_type": "code",
   "execution_count": null,
   "id": "12dba024-7e4b-4e80-9620-45299ef2137f",
   "metadata": {},
   "outputs": [],
   "source": [
    "keras.models.load_model(\"lstm_model\")"
   ]
  },
  {
   "cell_type": "markdown",
   "id": "8709879d-4985-46f4-963b-9874f5c99a3b",
   "metadata": {},
   "source": [
    "We can then make predictions on this sample of the validation data, determine which class they belong to, and use the confusion matrix to compare these predictions to the true labels in the dataset."
   ]
  },
  {
   "cell_type": "code",
   "execution_count": 24,
   "id": "ec145ef6-c79a-4b0b-a524-3a6e92b860af",
   "metadata": {},
   "outputs": [],
   "source": [
    "predictions_val = model.predict(val_embedding, verbose = 0)"
   ]
  },
  {
   "cell_type": "code",
   "execution_count": 25,
   "id": "718e4e1f-f1cc-4535-a305-7df5e4f4c075",
   "metadata": {},
   "outputs": [],
   "source": [
    "# Since we used sigmoid actviations, we can use a probability >= 0.5 as class 1, and < 0.5 as class 0. \n",
    "predictions = []\n",
    "\n",
    "for i in range(len(predictions_val)):\n",
    "    if predictions_val[i] < 0.5:\n",
    "        predictions.append(0)\n",
    "    else:\n",
    "        predictions.append(1)"
   ]
  },
  {
   "cell_type": "code",
   "execution_count": 26,
   "id": "4dbf62cc-2515-4b26-83dd-610e8f4f44ca",
   "metadata": {},
   "outputs": [
    {
     "data": {
      "text/plain": [
       "0.95674227198775"
      ]
     },
     "execution_count": 26,
     "metadata": {},
     "output_type": "execute_result"
    }
   ],
   "source": [
    "from sklearn.metrics import accuracy_score\n",
    "accuracy_score(val_data_2[\"target\"], predictions)"
   ]
  },
  {
   "cell_type": "markdown",
   "id": "98476b65-6d07-471b-945a-fbb5a253cecd",
   "metadata": {},
   "source": [
    "#### Create and visualize confusion matrix"
   ]
  },
  {
   "cell_type": "code",
   "execution_count": 27,
   "id": "2e2f4e9a-45a3-4f28-a7bf-8c4188cd07d8",
   "metadata": {},
   "outputs": [
    {
     "data": {
      "text/plain": [
       "array([[19326,   279],\n",
       "       [  625,   668]])"
      ]
     },
     "execution_count": 27,
     "metadata": {},
     "output_type": "execute_result"
    }
   ],
   "source": [
    "from sklearn.metrics import confusion_matrix, ConfusionMatrixDisplay\n",
    "cm = confusion_matrix(val_labels, predictions)\n",
    "cm"
   ]
  },
  {
   "cell_type": "code",
   "execution_count": 88,
   "id": "8012f7c6-9011-47f5-86b2-ee374a1cabe0",
   "metadata": {},
   "outputs": [
    {
     "data": {
      "text/plain": [
       "<sklearn.metrics._plot.confusion_matrix.ConfusionMatrixDisplay at 0x153f57059910>"
      ]
     },
     "execution_count": 88,
     "metadata": {},
     "output_type": "execute_result"
    },
    {
     "data": {
      "image/png": "[encoded data removed]",
      "text/plain": [
       "<Figure size 432x288 with 2 Axes>"
      ]
     },
     "metadata": {
      "needs_background": "light"
     },
     "output_type": "display_data"
    }
   ],
   "source": [
    "ConfusionMatrixDisplay(cm).plot()"
   ]
  },
  {
   "cell_type": "markdown",
   "id": "adcd23d7-bbae-45e6-8203-ca9b8346becf",
   "metadata": {},
   "source": [
    "We can calculate metrics from the confusion matrix, using the followng formulae: <br>\n",
    "Sensitivity (true positives / all actual positives) = TP / TP + FN <br>\n",
    "Specificity (true negatives / all actual negatives) =TN / TN + FP"
   ]
  },
  {
   "cell_type": "code",
   "execution_count": 38,
   "id": "b1b1d049-5adc-4904-80d9-c93df28cc5a6",
   "metadata": {},
   "outputs": [
    {
     "data": {
      "text/plain": [
       "0.5166279969064191"
      ]
     },
     "execution_count": 38,
     "metadata": {},
     "output_type": "execute_result"
    }
   ],
   "source": [
    "# sensitivity\n",
    "cm.diagonal()[1]/cm.sum(axis=1)[1]"
   ]
  },
  {
   "cell_type": "code",
   "execution_count": 42,
   "id": "9c300abc-508f-4f00-af2e-5ec3a18e4672",
   "metadata": {},
   "outputs": [
    {
     "data": {
      "text/plain": [
       "0.9857689364957919"
      ]
     },
     "execution_count": 42,
     "metadata": {},
     "output_type": "execute_result"
    }
   ],
   "source": [
    "# specificity\n",
    "cm.diagonal()[0]/cm.sum(axis=1)[0]"
   ]
  },
  {
   "cell_type": "markdown",
   "id": "ec7d3ab9-c06a-433b-86e1-c3bb91aa6a5c",
   "metadata": {},
   "source": [
    "We see that the model was better at predicting true negatives (class 0) than true positives (class 1), and this makes sense because the dataset is imbalanced, with a lot more samples in class 0. We attempt to improve sensitivity and specificity by balancing the class weights. "
   ]
  },
  {
   "cell_type": "markdown",
   "id": "68eb9a4b-7c9e-4a15-ae9a-8ca53f90c652",
   "metadata": {},
   "source": [
    "### Balancing class weights"
   ]
  },
  {
   "cell_type": "code",
   "execution_count": 44,
   "id": "ffbba56b-e5ae-45c5-ad46-c1dfe800c37e",
   "metadata": {},
   "outputs": [],
   "source": [
    "from sklearn.utils import class_weight\n",
    "\n",
    "class_weights = class_weight.compute_class_weight(class_weight = \"balanced\",\n",
    "                                                 classes = np.unique(train_data['target']),\n",
    "                                                 y = train_data['target'])\n",
    "class_weights = dict(zip(np.unique(train_data['target']), class_weights))"
   ]
  },
  {
   "cell_type": "code",
   "execution_count": 45,
   "id": "517a2923-ef73-4ed0-a6b0-24cc184c5db8",
   "metadata": {},
   "outputs": [
    {
     "data": {
      "text/plain": [
       "{0: 0.5329750484252084, 1: 8.081490003480413}"
      ]
     },
     "execution_count": 45,
     "metadata": {},
     "output_type": "execute_result"
    }
   ],
   "source": [
    "class_weights"
   ]
  },
  {
   "cell_type": "code",
   "execution_count": null,
   "id": "1f453352-87ea-4ac4-9198-98c3771d1f8a",
   "metadata": {},
   "outputs": [],
   "source": [
    "model = tf.keras.Sequential()\n",
    "\n",
    "model.add((tf.keras.layers.LSTM(128,return_sequences=True)))\n",
    "model.add(tf.keras.layers.GlobalMaxPool1D())\n",
    "model.add(tf.keras.layers.Dense(64,activation='relu'))\n",
    "model.add(tf.keras.layers.Dropout(0.2))\n",
    "model.add(tf.keras.layers.Dense(1,activation='sigmoid'))"
   ]
  },
  {
   "cell_type": "code",
   "execution_count": null,
   "id": "4affd910-40c2-406d-a36d-b62c2076f07d",
   "metadata": {},
   "outputs": [],
   "source": [
    "model.compile(optimizer = \"adam\", loss=\"binary_crossentropy\", metrics=['accuracy'])"
   ]
  },
  {
   "cell_type": "markdown",
   "id": "10c13bce-3150-4cda-a47f-f763e776675d",
   "metadata": {},
   "source": [
    "As we can see, sklearn's class_weight overweights the minority class, class 1, as compared to class 0. We can then retrain our LSTM network with balanced class weights and evaluate its performance on the validation set."
   ]
  },
  {
   "cell_type": "code",
   "execution_count": 55,
   "id": "9c0965a9-71be-4827-97aa-9a510a45391b",
   "metadata": {},
   "outputs": [
    {
     "name": "stdout",
     "output_type": "stream",
     "text": [
      "Epoch 1/10\n",
      "1000/1000 [==============================] - 609s 605ms/step - loss: 0.3481 - accuracy: 0.8473\n",
      "Epoch 2/10\n",
      "1000/1000 [==============================] - 618s 618ms/step - loss: 0.2989 - accuracy: 0.8731\n",
      "Epoch 3/10\n",
      "1000/1000 [==============================] - 577s 577ms/step - loss: 0.2821 - accuracy: 0.8808\n",
      "Epoch 4/10\n",
      "1000/1000 [==============================] - 599s 599ms/step - loss: 0.2668 - accuracy: 0.8885\n",
      "Epoch 5/10\n",
      "1000/1000 [==============================] - 620s 620ms/step - loss: 0.2656 - accuracy: 0.8863\n",
      "Epoch 6/10\n",
      "1000/1000 [==============================] - 603s 603ms/step - loss: 0.2673 - accuracy: 0.8849\n",
      "Epoch 7/10\n",
      "1000/1000 [==============================] - 616s 616ms/step - loss: 0.2664 - accuracy: 0.8864\n",
      "Epoch 8/10\n",
      "1000/1000 [==============================] - 619s 619ms/step - loss: 0.2587 - accuracy: 0.8885\n",
      "Epoch 9/10\n",
      "1000/1000 [==============================] - 592s 592ms/step - loss: 0.2482 - accuracy: 0.8941\n",
      "Epoch 10/10\n",
      "1000/1000 [==============================] - 609s 609ms/step - loss: 0.2411 - accuracy: 0.8943\n"
     ]
    }
   ],
   "source": [
    "history = model.fit(train_generator, epochs = 10, steps_per_epoch = 1000, class_weight = class_weights, verbose = 1)"
   ]
  },
  {
   "cell_type": "code",
   "execution_count": null,
   "id": "54c8dd54-ec0a-4621-8f4f-721791c1d336",
   "metadata": {},
   "outputs": [],
   "source": [
    "model.compile(optimizer = tf.keras.optimizers.Adam(0.0001), loss=\"binary_crossentropy\", metrics=['accuracy'])"
   ]
  },
  {
   "cell_type": "code",
   "execution_count": null,
   "id": "e249c8aa-2bd9-4402-b13e-a974d824aed3",
   "metadata": {},
   "outputs": [],
   "source": [
    "history = model.fit(train_generator, epochs = 10, steps_per_epoch = 1000, class_weight = class_weights, verbose = 1)"
   ]
  },
  {
   "cell_type": "code",
   "execution_count": 56,
   "id": "bac9cfb1-ed97-4029-a454-8b23f9a4bc2e",
   "metadata": {},
   "outputs": [
    {
     "data": {
      "image/png": "[encoded data removed]",
      "text/plain": [
       "<Figure size 432x288 with 1 Axes>"
      ]
     },
     "metadata": {
      "needs_background": "light"
     },
     "output_type": "display_data"
    }
   ],
   "source": [
    "plt.plot(history.history['accuracy'])\n",
    "plt.title('Model accuracy')\n",
    "plt.xlabel('Epochs')\n",
    "plt.ylabel('Accuracy')\n",
    "plt.legend(['train'], loc='upper left')\n",
    "plt.show()"
   ]
  },
  {
   "cell_type": "code",
   "execution_count": 57,
   "id": "1cdaf0f4-6767-42bb-8a97-1a65f8cc8264",
   "metadata": {},
   "outputs": [
    {
     "data": {
      "image/png": "[encoded data removed]",
      "text/plain": [
       "<Figure size 432x288 with 1 Axes>"
      ]
     },
     "metadata": {
      "needs_background": "light"
     },
     "output_type": "display_data"
    }
   ],
   "source": [
    "plt.plot(history.history['loss'])\n",
    "plt.title('Model Loss')\n",
    "plt.xlabel('Epochs')\n",
    "plt.ylabel('Loss')\n",
    "plt.legend(['train'], loc='upper left')\n",
    "plt.show()"
   ]
  },
  {
   "cell_type": "code",
   "execution_count": 60,
   "id": "af82ea99-05a0-4ec1-a724-3d3622cecc30",
   "metadata": {},
   "outputs": [],
   "source": [
    "# make predictions on validation set\n",
    "predictions_val = model.predict(val_embedding, verbose = 0)"
   ]
  },
  {
   "cell_type": "code",
   "execution_count": null,
   "id": "9563ee7f-e6a1-41d6-aafa-a6fd10482915",
   "metadata": {},
   "outputs": [],
   "source": [
    "predictions = []\n",
    "for i in range(len(predictions_val)):\n",
    "    if predictions_val[i] < 0.5:\n",
    "        predictions.append(0)\n",
    "    else:\n",
    "        predictions.append(1)"
   ]
  },
  {
   "cell_type": "code",
   "execution_count": 61,
   "id": "944d414e-8c2b-42b0-aefd-f2bfa0ceaf71",
   "metadata": {},
   "outputs": [
    {
     "data": {
      "text/plain": [
       "0.8798928127093502"
      ]
     },
     "execution_count": 61,
     "metadata": {},
     "output_type": "execute_result"
    }
   ],
   "source": [
    "# validation accuracy\n",
    "accuracy_score(val_data_2[\"target\"], predictions)"
   ]
  },
  {
   "cell_type": "code",
   "execution_count": 62,
   "id": "41dc74c8-4b2a-487b-be5c-4d1e5f468b57",
   "metadata": {},
   "outputs": [
    {
     "data": {
      "text/plain": [
       "array([[17203,  2402],\n",
       "       [  108,  1185]])"
      ]
     },
     "execution_count": 62,
     "metadata": {},
     "output_type": "execute_result"
    }
   ],
   "source": [
    "cm = confusion_matrix(val_labels, predictions)\n",
    "cm"
   ]
  },
  {
   "cell_type": "code",
   "execution_count": 63,
   "id": "fba348d9-5baa-4df5-a7dc-c3b32e256add",
   "metadata": {},
   "outputs": [
    {
     "data": {
      "text/plain": [
       "<sklearn.metrics._plot.confusion_matrix.ConfusionMatrixDisplay at 0x14735e754f10>"
      ]
     },
     "execution_count": 63,
     "metadata": {},
     "output_type": "execute_result"
    },
    {
     "data": {
      "image/png": "[encoded data removed]",
      "text/plain": [
       "<Figure size 432x288 with 2 Axes>"
      ]
     },
     "metadata": {
      "needs_background": "light"
     },
     "output_type": "display_data"
    }
   ],
   "source": [
    "ConfusionMatrixDisplay(cm).plot()"
   ]
  },
  {
   "cell_type": "code",
   "execution_count": 65,
   "id": "af5d5754-6168-4eb5-9d6b-bc063fe9cd77",
   "metadata": {},
   "outputs": [
    {
     "data": {
      "text/plain": [
       "0.9164733178654292"
      ]
     },
     "execution_count": 65,
     "metadata": {},
     "output_type": "execute_result"
    }
   ],
   "source": [
    "# sensitivity\n",
    "cm.diagonal()[1]/cm.sum(axis=1)[1]"
   ]
  },
  {
   "cell_type": "code",
   "execution_count": 66,
   "id": "bea0c3c8-df33-4a13-9ca5-9b135f907984",
   "metadata": {},
   "outputs": [
    {
     "data": {
      "text/plain": [
       "0.8774802346340219"
      ]
     },
     "execution_count": 66,
     "metadata": {},
     "output_type": "execute_result"
    }
   ],
   "source": [
    "# specificity\n",
    "cm.diagonal()[0]/cm.sum(axis=1)[0]"
   ]
  },
  {
   "cell_type": "markdown",
   "id": "687acf05-34ac-4de8-98c5-69598014041e",
   "metadata": {},
   "source": [
    "With balanced class weights, we see that overall accuracy decreases to the late 80s instead of the late 90s, however performance improved on other metrics. While specificity decreased slightly to 87%, sensitivity increased from 51% to 91%, showing that model became better at predicting the minority class after overweighting, which was the goal. The decrease in overall accuracy and specificity to account for this increase in sensitivity further emphasizes the trade-offs that are often made between different performance metrics when training a deep neural network. "
   ]
  },
  {
   "cell_type": "markdown",
   "id": "36bb74f7-4ab4-4890-b0a5-8cacb5c775a1",
   "metadata": {},
   "source": [
    "## BERT\n",
    "As a second training approach, we used the transformer model BERT. We started by downloading the BERT model and tokenizer from Tensorflow hub."
   ]
  },
  {
   "cell_type": "code",
   "execution_count": 2,
   "id": "926dd747-9135-4200-9bcc-9072e6f823a7",
   "metadata": {},
   "outputs": [],
   "source": [
    "import numpy as np\n",
    "import tensorflow as tf\n",
    "import tensorflow_hub as tf_hub\n",
    "import pandas as pd\n",
    "from tensorflow import keras\n",
    "import sys\n",
    "sys.path.append('models')\n",
    "from official.nlp import optimization\n",
    "from official.nlp.bert import tokenization\n",
    "from official.nlp.data import classifier_data_lib\n",
    "import matplotlib.pyplot as plt\n",
    "from sklearn.model_selection import train_test_split\n",
    "import math"
   ]
  },
  {
   "cell_type": "markdown",
   "id": "d3232af3-26f5-4d25-95ed-af6a9335dc10",
   "metadata": {},
   "source": [
    "### Loading BERT\n",
    "Getting the bert layer from tensorflow hub"
   ]
  },
  {
   "cell_type": "code",
   "execution_count": 3,
   "id": "bc5b1ca8-8c01-4554-905a-240633e076b0",
   "metadata": {},
   "outputs": [],
   "source": [
    "bert_encoder = tf_hub.KerasLayer('https://tfhub.dev/tensorflow/bert_en_uncased_L-12_H-768_A-12/2', trainable=True)\n",
    "vocab_file = bert_encoder.resolved_object.vocab_file.asset_path.numpy()\n",
    "do_lower_case = bert_encoder.resolved_object.do_lower_case.numpy()\n",
    "bert_tokenizer = tokenization.FullTokenizer(vocab_file, do_lower_case)"
   ]
  },
  {
   "cell_type": "markdown",
   "id": "749d8eec-7e1e-4bb1-be9b-6fad4742addf",
   "metadata": {},
   "source": [
    "### Importing Data\n",
    "We read in the files in the same way as the LSTM model, and use train_test_split() to create train, validation and test sets. "
   ]
  },
  {
   "cell_type": "code",
   "execution_count": 4,
   "id": "3d2fff27-e237-4580-9724-d7b627f099a1",
   "metadata": {},
   "outputs": [],
   "source": [
    "df = pd.read_csv(\"/home/DAVIDSON/brwiedenbeck/public/NLP/quora.csv\")"
   ]
  },
  {
   "cell_type": "code",
   "execution_count": 5,
   "id": "caa1e454-328e-444e-96c6-bb4eff0489fa",
   "metadata": {},
   "outputs": [],
   "source": [
    "train_data, test_data = train_test_split(df, train_size=0.80, stratify = df['target'], random_state=42)\n",
    "train_data, val_data = train_test_split(train_data, train_size=0.80, stratify = train_data['target'], random_state=42)"
   ]
  },
  {
   "cell_type": "code",
   "execution_count": 6,
   "id": "235ef8d1-dff0-4453-b9c9-940cf47c2b69",
   "metadata": {},
   "outputs": [],
   "source": [
    "train_data, _ = train_test_split(train_data, train_size=0.001, stratify = train_data['target'], random_state=42)"
   ]
  },
  {
   "cell_type": "markdown",
   "id": "ade1e027-2e17-4232-bcc6-bcdcc5e56f88",
   "metadata": {},
   "source": [
    "We then put the data into a dataset using the from_tensor_slices method, which returns a dataset of tuples in the form: (question text, label)."
   ]
  },
  {
   "cell_type": "code",
   "execution_count": 10,
   "id": "0c1a4656-3f0c-42db-ad80-345f490177cd",
   "metadata": {},
   "outputs": [],
   "source": [
    "train_data = tf.data.Dataset.from_tensor_slices((train_data['question_text'].values, train_data['target'].values))\n",
    "val_data = tf.data.Dataset.from_tensor_slices((val_data['question_text'].values, val_data['target'].values))"
   ]
  },
  {
   "cell_type": "markdown",
   "id": "1679b647-ae9c-4932-9e15-fb9688bd54be",
   "metadata": {},
   "source": [
    "### Preprocessing\n",
    "We need to convert the data into a form that is usable by BERT. Doing so requires transforming each point in the dataset to input_word_ids (tokensfor the input text string), input_mask (padding mask) and input_type_ids (here, a vector of zeroes because it is a classification task). We can map this transformation to the entire dataset using a second function, preprocess_map(). "
   ]
  },
  {
   "cell_type": "code",
   "execution_count": 7,
   "id": "b0efa23f-36ff-4af7-8477-1b2adc21596e",
   "metadata": {},
   "outputs": [],
   "source": [
    "def preprocess(question, label, label_list = [0,1], max_seq_length = 200, tokenizer = bert_tokenizer):\n",
    "   \n",
    "    datapoint = classifier_data_lib.InputExample(guid = None, text_a = question.numpy(), text_b = None, label = label.numpy())\n",
    "    processed_question = classifier_data_lib.convert_single_example(0, datapoint, label_list, max_seq_length, tokenizer)\n",
    "\n",
    "    return (processed_question.input_ids, processed_question.input_mask, processed_question.segment_ids, processed_question.label_id)\n"
   ]
  },
  {
   "cell_type": "code",
   "execution_count": 8,
   "id": "4030d2a1-4e58-434d-a474-e1f271ca520e",
   "metadata": {},
   "outputs": [],
   "source": [
    "def preprocess_map(question, label):\n",
    "    input_ids, input_mask, segment_ids, label_id = tf.py_function(preprocess, inp=[question, label], Tout=[tf.int32, tf.int32, tf.int32, tf.int32])\n",
    "\n",
    "    input_ids.set_shape([200])\n",
    "    input_mask.set_shape([200])\n",
    "    segment_ids.set_shape([200])\n",
    "    label_id.set_shape([])\n",
    "\n",
    "    dictionary = {'input_word_ids': input_ids, 'input_mask': input_mask, 'input_type_ids': segment_ids}\n",
    "    \n",
    "    return (dictionary, label_id) # dictionary contains input_word_ids, input_mask, input_type_ids for dataset\n"
   ]
  },
  {
   "cell_type": "code",
   "execution_count": 9,
   "id": "78fb1faa-9e8e-49cb-adf7-d82ca95cca20",
   "metadata": {},
   "outputs": [],
   "source": [
    "batch_size = 256\n",
    "def train_gen(train_data):\n",
    "    while True:\n",
    "        num_batches = math.ceil(len(train_data) / batch_size)\n",
    "        for i in range(num_batches):\n",
    "            batch = train_data.iloc[i * batch_size: (i + 1) * batch_size] # extract one batch \n",
    "            batch = tf.data.Dataset.from_tensor_slices((train_data['question_text'].values, train_data['target'].values))\n",
    "            batch = (batch.map(preprocess_map,\n",
    "                              num_parallel_calls=tf.data.experimental.AUTOTUNE)\n",
    "                          .shuffle(1000)\n",
    "                          .batch(32, drop_remainder=True))\n",
    "            batch = list(batch)\n",
    "        yield batch[0]"
   ]
  },
  {
   "cell_type": "code",
   "execution_count": 10,
   "id": "cc2be9aa-2d3d-4667-849f-ce51a0d44bd7",
   "metadata": {},
   "outputs": [],
   "source": [
    "train_generator = train_gen(train_data)"
   ]
  },
  {
   "cell_type": "code",
   "execution_count": null,
   "id": "188bac5c-8036-4a0c-b714-6830ec895640",
   "metadata": {},
   "outputs": [],
   "source": [
    "val_data = (val_data.map(preprocess_map, num_parallel_calls=tf.data.experimental.AUTOTUNE)\n",
    "            .batch(32, drop_remainder=True)) "
   ]
  },
  {
   "cell_type": "markdown",
   "id": "61232527-48b3-4bb3-a3a2-e3a560c3c81d",
   "metadata": {},
   "source": [
    "### Model\n",
    "We can now feed the preprocessed text to the model. We have three input layers, one for each preprocessing output, the bert encoder layer from which we select the pooled output, a dropout layer and an output layer to make predictions. The BERT authors recommend a learning rate of 2e-5, so we can then comepile and train our model using a learning rate of 2e-5 for 10 epochs. "
   ]
  },
  {
   "cell_type": "code",
   "execution_count": 11,
   "id": "4ef9275e-9af5-404e-af8f-d1241c16f83c",
   "metadata": {},
   "outputs": [],
   "source": [
    "input_word_ids = tf.keras.layers.Input(shape=(200,), dtype=tf.int32, name=\"input_word_ids\")\n",
    "\n",
    "\n",
    "input_mask = tf.keras.layers.Input(shape=(200,), dtype=tf.int32, name=\"input_mask\")\n",
    "\n",
    "\n",
    "input_type_ids = tf.keras.layers.Input(shape=(200,), dtype=tf.int32, name=\"input_type_ids\")\n",
    "\n",
    "pooled_output, sequence_output = bert_encoder([input_word_ids, input_mask, input_type_ids])\n",
    "\n",
    "dropped = tf.keras.layers.Dropout(0.3, name = \"dropout\")(pooled_output)\n",
    "output = tf.keras.layers.Dense(1, activation='sigmoid', name=\"output\")(dropped)\n",
    "\n",
    "model = tf.keras.Model(\n",
    "      inputs={\n",
    "        'input_word_ids': input_word_ids,\n",
    "        'input_mask': input_mask,\n",
    "        'input_type_ids': input_type_ids}, \n",
    "        outputs=output)"
   ]
  },
  {
   "cell_type": "code",
   "execution_count": 12,
   "id": "f31b39ef-529e-44da-a3fb-c847847e5a99",
   "metadata": {},
   "outputs": [],
   "source": [
    "model.compile(optimizer = tf.keras.optimizers.Adam(learning_rate = 2e-5),\n",
    "              loss = \"binary_crossentropy\",\n",
    "              metrics = [\"accuracy\"])"
   ]
  },
  {
   "cell_type": "code",
   "execution_count": null,
   "id": "8e6ef33b-9e99-4cb9-a136-1ae871ee4ac3",
   "metadata": {},
   "outputs": [
    {
     "name": "stdout",
     "output_type": "stream",
     "text": [
      "Epoch 1/5\n"
     ]
    }
   ],
   "source": [
    "history = model.fit(train_generator, verbose = 1, epochs=5)\n"
   ]
  },
  {
   "cell_type": "markdown",
   "id": "b1f329f4-bd67-4837-bdab-544d4c877c7f",
   "metadata": {},
   "source": [
    "### Citations\n",
    "GloVe embeddings and introduction to LSTM: https://www.kaggle.com/code/stacykurnikova/using-glove-embedding <br>\n",
    "Implementing BERT: https://www.youtube.com/watch?v=D9yyt6BfgAM <br>\n",
    "Preprocessing BERT: https://github.com/anantgupta129/NLP-with-BERT-for-Quora-Insincere-Questions-Dataset/blob/main/NLP_with_BERT.ipynb <br>\n"
   ]
  }
 ],
 "metadata": {
  "kernelspec": {
   "display_name": "TensorFlow",
   "language": "python",
   "name": "python3-tensorflow"
  },
  "language_info": {
   "codemirror_mode": {
    "name": "ipython",
    "version": 3
   },
   "file_extension": ".py",
   "mimetype": "text/x-python",
   "name": "python",
   "nbconvert_exporter": "python",
   "pygments_lexer": "ipython3",
   "version": "3.8.6"
  }
 },
 "nbformat": 4,
 "nbformat_minor": 5
}
